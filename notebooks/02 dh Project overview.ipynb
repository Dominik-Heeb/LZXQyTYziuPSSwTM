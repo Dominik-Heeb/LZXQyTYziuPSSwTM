{
 "cells": [
  {
   "cell_type": "markdown",
   "id": "9244b344-3b33-4847-8ca4-aa8c5c5317dd",
   "metadata": {},
   "source": [
    "# Project overview\n",
    "\n",
    "Apziva project #4: \"MonReader\"<br>\n",
    "2023 07 26"
   ]
  },
  {
   "cell_type": "markdown",
   "id": "57c551d7-9aec-4e0f-849f-ab27622bf2a3",
   "metadata": {},
   "source": [
    "## TOC: <a class=\"anchor\" id=\"TOC\"></a>\n",
    "* [Task description](#TaskDescription)\n",
    "* [Repository description](#RepositoryDescription) "
   ]
  },
  {
   "cell_type": "markdown",
   "id": "b8faa908-ae76-4284-9345-54e18225bd20",
   "metadata": {},
   "source": [
    "## Task description <a class=\"anchor\" id=\"TaskDescription\"></a>\n",
    "[TOC](#TOC)"
   ]
  },
  {
   "cell_type": "markdown",
   "id": "f087dc66-0e51-4969-91aa-f9a77fc3cc0d",
   "metadata": {},
   "source": [
    "__Background:__\n",
    "* Our company develops innovative Artificial Intelligence and __computer vision solutions__ that revolutionize industries. Machines that can see. [...]\n",
    "* __MonReader__ is a new __mobile document digitization experience__ \n",
    "    * for the blind, \n",
    "    * for researchers\n",
    "    * for everyone else in need for fully automatic, highly fast and high-quality document scanning in bulk. \n",
    "* It is composed of a mobile app and all the __user__ needs to do is __flip pages__.\n",
    "* MonReader: \n",
    "    * __detects page flips__ from low-resolution camera preview.\n",
    "    * takes a high-resolution picture of the document:\n",
    "        * recognizing its corners\n",
    "        * croping\n",
    "        * dewarping\n",
    "        * sharpening the contrast\n",
    "        * recognizing the text with formatting kept intact\n",
    "        * correcting by MonReader's ML powered redactor.\n",
    "        \n",
    "__Data Description:__\n",
    "* We collected __page flipping video__ from smart phones and __labelled them as flipping and not flipping__.\n",
    "* We __clipped the videos__ as short videos \n",
    "* The extracted frames are then saved to disk in a __sequential order__:\n",
    "    * Naming structure: `VideoID_FrameNumber`.\n",
    "\n",
    "__Download Data:__\n",
    "* https://drive.google.com/file/d/1KDQBTbo5deKGCdVV_xIujscn5ImxW4dm/view?usp=sharing\n",
    "* 896 MB\n",
    "\n",
    "__Goal:__\n",
    "* __Predict__ if the page is being __flipped__ using a single image.\n",
    "\n",
    "__Success Metric:__\n",
    "* Evaluate model performance based on __F1 score__, the higher the better.\n",
    "\n",
    "__Bonus:__\n",
    "* __Predict__ if a __given sequence__ of images __contains__ an action of __flipping__."
   ]
  },
  {
   "cell_type": "markdown",
   "id": "e2a78d3d-6ac9-4e21-8212-2b1f0a8aab31",
   "metadata": {},
   "source": [
    "## Repository description <a class=\"anchor\" id=\"RepositoryDescription\"></a>\n",
    "[TOC](#TOC)"
   ]
  },
  {
   "cell_type": "markdown",
   "id": "568a3870-51b4-4131-b460-f0178320476b",
   "metadata": {},
   "source": [
    "__Notebooks:__\n",
    "* __EDA images:__ Exploring the main characteristics of the frames.\n",
    "* __Image preparation:__ Preparing images for transfer-learning models Inception and MobileNet.\n",
    "* __High-level features:__ Extracting high-level image features.\n",
    "* __PCA:__ Generating bi-plots and scree plots to prepare PCA to be used in pipelines.\n",
    "* __Binary classifiers:__ Getting the best ML model with regard to Inception/MobileNet, Squeeze/Crop and L2/Random Forest/SVM.\n",
    "* __Sequence analysis:__ Using the best model to analyze a contiguous series of frames that consists in flipping and non-flipping sub-sequences."
   ]
  }
 ],
 "metadata": {
  "kernelspec": {
   "display_name": "Python 3 (ipykernel)",
   "language": "python",
   "name": "python3"
  },
  "language_info": {
   "codemirror_mode": {
    "name": "ipython",
    "version": 3
   },
   "file_extension": ".py",
   "mimetype": "text/x-python",
   "name": "python",
   "nbconvert_exporter": "python",
   "pygments_lexer": "ipython3",
   "version": "3.9.10"
  }
 },
 "nbformat": 4,
 "nbformat_minor": 5
}
